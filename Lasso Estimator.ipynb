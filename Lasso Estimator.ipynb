{
 "cells": [
  {
   "cell_type": "markdown",
   "id": "e9d915b5-e710-4ec7-ad4c-0cefac93d03e",
   "metadata": {},
   "source": [
    "### Idalee Vargas \n",
    "\n",
    "#### Jan 25, 2024"
   ]
  },
  {
   "cell_type": "markdown",
   "id": "a98f5070",
   "metadata": {},
   "source": [
    "# 0.) Clean the Apple Data to get a quarterly series of EPS."
   ]
  },
  {
   "cell_type": "code",
   "execution_count": 47,
   "id": "1022e4d8",
   "metadata": {},
   "outputs": [],
   "source": [
    "import pandas as pd\n",
    "from pytrends.request import TrendReq\n",
    "import matplotlib.pyplot as plt"
   ]
  },
  {
   "cell_type": "code",
   "execution_count": 48,
   "id": "c7f8e883",
   "metadata": {},
   "outputs": [],
   "source": [
    "y = pd.read_csv('AAPL_quarterly_financials.csv') "
   ]
  },
  {
   "cell_type": "code",
   "execution_count": 49,
   "id": "fceac375-968f-42e9-b8d2-82520c37504a",
   "metadata": {},
   "outputs": [
    {
     "data": {
      "text/html": [
       "<div>\n",
       "<style scoped>\n",
       "    .dataframe tbody tr th:only-of-type {\n",
       "        vertical-align: middle;\n",
       "    }\n",
       "\n",
       "    .dataframe tbody tr th {\n",
       "        vertical-align: top;\n",
       "    }\n",
       "\n",
       "    .dataframe thead th {\n",
       "        text-align: right;\n",
       "    }\n",
       "</style>\n",
       "<table border=\"1\" class=\"dataframe\">\n",
       "  <thead>\n",
       "    <tr style=\"text-align: right;\">\n",
       "      <th></th>\n",
       "      <th>name</th>\n",
       "      <th>ttm</th>\n",
       "      <th>09/30/2023</th>\n",
       "      <th>06/30/2023</th>\n",
       "      <th>03/31/2023</th>\n",
       "      <th>12/31/2022</th>\n",
       "      <th>09/30/2022</th>\n",
       "      <th>06/30/2022</th>\n",
       "      <th>03/31/2022</th>\n",
       "      <th>12/31/2021</th>\n",
       "      <th>...</th>\n",
       "      <th>12/31/1987</th>\n",
       "      <th>09/30/1987</th>\n",
       "      <th>06/30/1987</th>\n",
       "      <th>03/31/1987</th>\n",
       "      <th>12/31/1986</th>\n",
       "      <th>09/30/1986</th>\n",
       "      <th>06/30/1986</th>\n",
       "      <th>03/31/1986</th>\n",
       "      <th>12/31/1985</th>\n",
       "      <th>09/30/1985</th>\n",
       "    </tr>\n",
       "  </thead>\n",
       "  <tbody>\n",
       "    <tr>\n",
       "      <th>0</th>\n",
       "      <td>TotalRevenue</td>\n",
       "      <td>383,285,000,000</td>\n",
       "      <td>89,498,000,000</td>\n",
       "      <td>81,797,000,000</td>\n",
       "      <td>94,836,000,000</td>\n",
       "      <td>117,154,000,000</td>\n",
       "      <td>90,146,000,000</td>\n",
       "      <td>82,959,000,000</td>\n",
       "      <td>97,278,000,000</td>\n",
       "      <td>123,945,000,000</td>\n",
       "      <td>...</td>\n",
       "      <td>1,042,400,000</td>\n",
       "      <td>786,500,000</td>\n",
       "      <td>637,100,000</td>\n",
       "      <td>575,300,000</td>\n",
       "      <td>662,300,000</td>\n",
       "      <td>510,800,000</td>\n",
       "      <td>448,300,000</td>\n",
       "      <td>408,900,000</td>\n",
       "      <td>533,900,000</td>\n",
       "      <td>409,700,000</td>\n",
       "    </tr>\n",
       "    <tr>\n",
       "      <th>1</th>\n",
       "      <td>\\tOperatingRevenue</td>\n",
       "      <td>383,285,000,000</td>\n",
       "      <td>89,498,000,000</td>\n",
       "      <td>81,797,000,000</td>\n",
       "      <td>94,836,000,000</td>\n",
       "      <td>117,154,000,000</td>\n",
       "      <td>90,146,000,000</td>\n",
       "      <td>82,959,000,000</td>\n",
       "      <td>97,278,000,000</td>\n",
       "      <td>123,945,000,000</td>\n",
       "      <td>...</td>\n",
       "      <td>1,042,400,000</td>\n",
       "      <td>786,500,000</td>\n",
       "      <td>637,100,000</td>\n",
       "      <td>575,300,000</td>\n",
       "      <td>662,300,000</td>\n",
       "      <td>510,800,000</td>\n",
       "      <td>448,300,000</td>\n",
       "      <td>408,900,000</td>\n",
       "      <td>533,900,000</td>\n",
       "      <td>409,700,000</td>\n",
       "    </tr>\n",
       "    <tr>\n",
       "      <th>2</th>\n",
       "      <td>CostOfRevenue</td>\n",
       "      <td>214,137,000,000</td>\n",
       "      <td>49,071,000,000</td>\n",
       "      <td>45,384,000,000</td>\n",
       "      <td>52,860,000,000</td>\n",
       "      <td>66,822,000,000</td>\n",
       "      <td>52,051,000,000</td>\n",
       "      <td>47,074,000,000</td>\n",
       "      <td>54,719,000,000</td>\n",
       "      <td>69,702,000,000</td>\n",
       "      <td>...</td>\n",
       "      <td>NaN</td>\n",
       "      <td>NaN</td>\n",
       "      <td>NaN</td>\n",
       "      <td>NaN</td>\n",
       "      <td>NaN</td>\n",
       "      <td>NaN</td>\n",
       "      <td>NaN</td>\n",
       "      <td>NaN</td>\n",
       "      <td>NaN</td>\n",
       "      <td>NaN</td>\n",
       "    </tr>\n",
       "    <tr>\n",
       "      <th>3</th>\n",
       "      <td>GrossProfit</td>\n",
       "      <td>169,148,000,000</td>\n",
       "      <td>40,427,000,000</td>\n",
       "      <td>36,413,000,000</td>\n",
       "      <td>41,976,000,000</td>\n",
       "      <td>50,332,000,000</td>\n",
       "      <td>38,095,000,000</td>\n",
       "      <td>35,885,000,000</td>\n",
       "      <td>42,559,000,000</td>\n",
       "      <td>54,243,000,000</td>\n",
       "      <td>...</td>\n",
       "      <td>NaN</td>\n",
       "      <td>NaN</td>\n",
       "      <td>NaN</td>\n",
       "      <td>NaN</td>\n",
       "      <td>NaN</td>\n",
       "      <td>NaN</td>\n",
       "      <td>NaN</td>\n",
       "      <td>NaN</td>\n",
       "      <td>NaN</td>\n",
       "      <td>NaN</td>\n",
       "    </tr>\n",
       "    <tr>\n",
       "      <th>4</th>\n",
       "      <td>OperatingExpense</td>\n",
       "      <td>54,847,000,000</td>\n",
       "      <td>13,458,000,000</td>\n",
       "      <td>13,415,000,000</td>\n",
       "      <td>13,658,000,000</td>\n",
       "      <td>14,316,000,000</td>\n",
       "      <td>13,201,000,000</td>\n",
       "      <td>12,809,000,000</td>\n",
       "      <td>12,580,000,000</td>\n",
       "      <td>12,755,000,000</td>\n",
       "      <td>...</td>\n",
       "      <td>NaN</td>\n",
       "      <td>NaN</td>\n",
       "      <td>NaN</td>\n",
       "      <td>NaN</td>\n",
       "      <td>NaN</td>\n",
       "      <td>NaN</td>\n",
       "      <td>NaN</td>\n",
       "      <td>NaN</td>\n",
       "      <td>NaN</td>\n",
       "      <td>NaN</td>\n",
       "    </tr>\n",
       "  </tbody>\n",
       "</table>\n",
       "<p>5 rows × 155 columns</p>\n",
       "</div>"
      ],
      "text/plain": [
       "                 name              ttm      09/30/2023      06/30/2023  \\\n",
       "0        TotalRevenue  383,285,000,000  89,498,000,000  81,797,000,000   \n",
       "1  \\tOperatingRevenue  383,285,000,000  89,498,000,000  81,797,000,000   \n",
       "2       CostOfRevenue  214,137,000,000  49,071,000,000  45,384,000,000   \n",
       "3         GrossProfit  169,148,000,000  40,427,000,000  36,413,000,000   \n",
       "4    OperatingExpense   54,847,000,000  13,458,000,000  13,415,000,000   \n",
       "\n",
       "       03/31/2023       12/31/2022      09/30/2022      06/30/2022  \\\n",
       "0  94,836,000,000  117,154,000,000  90,146,000,000  82,959,000,000   \n",
       "1  94,836,000,000  117,154,000,000  90,146,000,000  82,959,000,000   \n",
       "2  52,860,000,000   66,822,000,000  52,051,000,000  47,074,000,000   \n",
       "3  41,976,000,000   50,332,000,000  38,095,000,000  35,885,000,000   \n",
       "4  13,658,000,000   14,316,000,000  13,201,000,000  12,809,000,000   \n",
       "\n",
       "       03/31/2022       12/31/2021  ...     12/31/1987   09/30/1987  \\\n",
       "0  97,278,000,000  123,945,000,000  ...  1,042,400,000  786,500,000   \n",
       "1  97,278,000,000  123,945,000,000  ...  1,042,400,000  786,500,000   \n",
       "2  54,719,000,000   69,702,000,000  ...            NaN          NaN   \n",
       "3  42,559,000,000   54,243,000,000  ...            NaN          NaN   \n",
       "4  12,580,000,000   12,755,000,000  ...            NaN          NaN   \n",
       "\n",
       "    06/30/1987   03/31/1987   12/31/1986   09/30/1986   06/30/1986  \\\n",
       "0  637,100,000  575,300,000  662,300,000  510,800,000  448,300,000   \n",
       "1  637,100,000  575,300,000  662,300,000  510,800,000  448,300,000   \n",
       "2          NaN          NaN          NaN          NaN          NaN   \n",
       "3          NaN          NaN          NaN          NaN          NaN   \n",
       "4          NaN          NaN          NaN          NaN          NaN   \n",
       "\n",
       "    03/31/1986   12/31/1985   09/30/1985  \n",
       "0  408,900,000  533,900,000  409,700,000  \n",
       "1  408,900,000  533,900,000  409,700,000  \n",
       "2          NaN          NaN          NaN  \n",
       "3          NaN          NaN          NaN  \n",
       "4          NaN          NaN          NaN  \n",
       "\n",
       "[5 rows x 155 columns]"
      ]
     },
     "execution_count": 49,
     "metadata": {},
     "output_type": "execute_result"
    }
   ],
   "source": [
    "y.head()"
   ]
  },
  {
   "cell_type": "code",
   "execution_count": 50,
   "id": "407cc0b4-8592-4820-9b6d-ec5bd2ae398d",
   "metadata": {},
   "outputs": [],
   "source": [
    "# Clean data \n",
    "y.index = y.name"
   ]
  },
  {
   "cell_type": "code",
   "execution_count": 51,
   "id": "0cf724f7",
   "metadata": {},
   "outputs": [],
   "source": [
    "y = pd.DataFrame(y.loc[\"BasicEPS\", :]).iloc[2:,:]"
   ]
  },
  {
   "cell_type": "code",
   "execution_count": 52,
   "id": "7cb6c32e-fd08-4073-a66d-da0708efb714",
   "metadata": {},
   "outputs": [],
   "source": [
    "y.index = pd.to_datetime(y.index)"
   ]
  },
  {
   "cell_type": "code",
   "execution_count": 53,
   "id": "5694510c",
   "metadata": {},
   "outputs": [],
   "source": [
    "# Assumptions NULLS are 0.\n",
    "y = y.fillna(0.).sort_index()"
   ]
  },
  {
   "cell_type": "markdown",
   "id": "f41c46a9",
   "metadata": {},
   "source": [
    "# 1.) Come up with 6 search terms you think could nowcast earnings. (Different than the ones I used) Add in 3 terms that that you think will not Nowcast earnings. Pull in the gtrends data. Clean it to have a quarterly average."
   ]
  },
  {
   "cell_type": "code",
   "execution_count": 54,
   "id": "36446546",
   "metadata": {},
   "outputs": [],
   "source": [
    "# Create pytrends object\n",
    "pytrends = TrendReq(hl='en-US', tz=360)\n",
    "\n",
    "# Set up the keywords and the timeframe\n",
    "keywords = [\"iPhone\", \"Apple Layoffs\",\"MacBook\",\"iPad\",\"Apple CEO\", \n",
    "            \"Apple Share Price\", \"Recession\", \"Cellphone\",\"iPod\",\"Computer\",\n",
    "           \"Taylor Swift\",\"Samsung\",\"Is the Earth Flat\",\"Burgers\",\"Hospital\"]  \n",
    "start_date = '2004-01-01'\n",
    "end_date = '2024-01-01'\n",
    "\n",
    "# Create an empty DataFrame to store the results\n",
    "df = pd.DataFrame()\n",
    "\n",
    "# Iterate through keywords and fetch data\n",
    "for keyword in keywords:\n",
    "    pytrends.build_payload([keyword], cat=0, timeframe=f'{start_date} {end_date}', geo='', gprop='')\n",
    "    interest_over_time_df = pytrends.interest_over_time()\n",
    "    df[keyword] = interest_over_time_df[keyword]"
   ]
  },
  {
   "cell_type": "code",
   "execution_count": 55,
   "id": "77671d95",
   "metadata": {},
   "outputs": [],
   "source": [
    "X = df.resample(\"Q\").mean()"
   ]
  },
  {
   "cell_type": "code",
   "execution_count": 56,
   "id": "cdec01de-b499-45a2-bc5d-1a0001baa63b",
   "metadata": {},
   "outputs": [],
   "source": [
    "temp = pd.concat([y,X], axis = 1).dropna()\n",
    "y = temp[\"BasicEPS\"].copy()\n",
    "X = temp.iloc[:,1:].copy()"
   ]
  },
  {
   "cell_type": "markdown",
   "id": "73c7abb8",
   "metadata": {},
   "source": [
    "# 2.) Normalize all the X data"
   ]
  },
  {
   "cell_type": "code",
   "execution_count": 57,
   "id": "3baea683-f20f-4889-9dc3-111c1ee73f8d",
   "metadata": {},
   "outputs": [],
   "source": [
    "from sklearn.preprocessing import StandardScaler"
   ]
  },
  {
   "cell_type": "code",
   "execution_count": 58,
   "id": "77c4c3d3-7317-4304-875b-5dfe8cbc7d4d",
   "metadata": {},
   "outputs": [],
   "source": [
    "scaler = StandardScaler()"
   ]
  },
  {
   "cell_type": "code",
   "execution_count": 59,
   "id": "d92b79ee-7600-4ce2-b4d7-1e161ab82264",
   "metadata": {},
   "outputs": [],
   "source": [
    "X_scaled = scaler.fit_transform(X)"
   ]
  },
  {
   "cell_type": "markdown",
   "id": "da43d5ef",
   "metadata": {},
   "source": [
    "# 3.) Run a Lasso with lambda of .5. Plot a bar chart."
   ]
  },
  {
   "cell_type": "code",
   "execution_count": 62,
   "id": "b7ff06aa",
   "metadata": {},
   "outputs": [],
   "source": [
    "from sklearn.linear_model import Lasso "
   ]
  },
  {
   "cell_type": "code",
   "execution_count": 63,
   "id": "f7311bec",
   "metadata": {},
   "outputs": [
    {
     "data": {
      "text/html": [
       "<style>#sk-container-id-3 {color: black;background-color: white;}#sk-container-id-3 pre{padding: 0;}#sk-container-id-3 div.sk-toggleable {background-color: white;}#sk-container-id-3 label.sk-toggleable__label {cursor: pointer;display: block;width: 100%;margin-bottom: 0;padding: 0.3em;box-sizing: border-box;text-align: center;}#sk-container-id-3 label.sk-toggleable__label-arrow:before {content: \"▸\";float: left;margin-right: 0.25em;color: #696969;}#sk-container-id-3 label.sk-toggleable__label-arrow:hover:before {color: black;}#sk-container-id-3 div.sk-estimator:hover label.sk-toggleable__label-arrow:before {color: black;}#sk-container-id-3 div.sk-toggleable__content {max-height: 0;max-width: 0;overflow: hidden;text-align: left;background-color: #f0f8ff;}#sk-container-id-3 div.sk-toggleable__content pre {margin: 0.2em;color: black;border-radius: 0.25em;background-color: #f0f8ff;}#sk-container-id-3 input.sk-toggleable__control:checked~div.sk-toggleable__content {max-height: 200px;max-width: 100%;overflow: auto;}#sk-container-id-3 input.sk-toggleable__control:checked~label.sk-toggleable__label-arrow:before {content: \"▾\";}#sk-container-id-3 div.sk-estimator input.sk-toggleable__control:checked~label.sk-toggleable__label {background-color: #d4ebff;}#sk-container-id-3 div.sk-label input.sk-toggleable__control:checked~label.sk-toggleable__label {background-color: #d4ebff;}#sk-container-id-3 input.sk-hidden--visually {border: 0;clip: rect(1px 1px 1px 1px);clip: rect(1px, 1px, 1px, 1px);height: 1px;margin: -1px;overflow: hidden;padding: 0;position: absolute;width: 1px;}#sk-container-id-3 div.sk-estimator {font-family: monospace;background-color: #f0f8ff;border: 1px dotted black;border-radius: 0.25em;box-sizing: border-box;margin-bottom: 0.5em;}#sk-container-id-3 div.sk-estimator:hover {background-color: #d4ebff;}#sk-container-id-3 div.sk-parallel-item::after {content: \"\";width: 100%;border-bottom: 1px solid gray;flex-grow: 1;}#sk-container-id-3 div.sk-label:hover label.sk-toggleable__label {background-color: #d4ebff;}#sk-container-id-3 div.sk-serial::before {content: \"\";position: absolute;border-left: 1px solid gray;box-sizing: border-box;top: 0;bottom: 0;left: 50%;z-index: 0;}#sk-container-id-3 div.sk-serial {display: flex;flex-direction: column;align-items: center;background-color: white;padding-right: 0.2em;padding-left: 0.2em;position: relative;}#sk-container-id-3 div.sk-item {position: relative;z-index: 1;}#sk-container-id-3 div.sk-parallel {display: flex;align-items: stretch;justify-content: center;background-color: white;position: relative;}#sk-container-id-3 div.sk-item::before, #sk-container-id-3 div.sk-parallel-item::before {content: \"\";position: absolute;border-left: 1px solid gray;box-sizing: border-box;top: 0;bottom: 0;left: 50%;z-index: -1;}#sk-container-id-3 div.sk-parallel-item {display: flex;flex-direction: column;z-index: 1;position: relative;background-color: white;}#sk-container-id-3 div.sk-parallel-item:first-child::after {align-self: flex-end;width: 50%;}#sk-container-id-3 div.sk-parallel-item:last-child::after {align-self: flex-start;width: 50%;}#sk-container-id-3 div.sk-parallel-item:only-child::after {width: 0;}#sk-container-id-3 div.sk-dashed-wrapped {border: 1px dashed gray;margin: 0 0.4em 0.5em 0.4em;box-sizing: border-box;padding-bottom: 0.4em;background-color: white;}#sk-container-id-3 div.sk-label label {font-family: monospace;font-weight: bold;display: inline-block;line-height: 1.2em;}#sk-container-id-3 div.sk-label-container {text-align: center;}#sk-container-id-3 div.sk-container {/* jupyter's `normalize.less` sets `[hidden] { display: none; }` but bootstrap.min.css set `[hidden] { display: none !important; }` so we also need the `!important` here to be able to override the default hidden behavior on the sphinx rendered scikit-learn.org. See: https://github.com/scikit-learn/scikit-learn/issues/21755 */display: inline-block !important;position: relative;}#sk-container-id-3 div.sk-text-repr-fallback {display: none;}</style><div id=\"sk-container-id-3\" class=\"sk-top-container\"><div class=\"sk-text-repr-fallback\"><pre>Lasso(alpha=0.1)</pre><b>In a Jupyter environment, please rerun this cell to show the HTML representation or trust the notebook. <br />On GitHub, the HTML representation is unable to render, please try loading this page with nbviewer.org.</b></div><div class=\"sk-container\" hidden><div class=\"sk-item\"><div class=\"sk-estimator sk-toggleable\"><input class=\"sk-toggleable__control sk-hidden--visually\" id=\"sk-estimator-id-3\" type=\"checkbox\" checked><label for=\"sk-estimator-id-3\" class=\"sk-toggleable__label sk-toggleable__label-arrow\">Lasso</label><div class=\"sk-toggleable__content\"><pre>Lasso(alpha=0.1)</pre></div></div></div></div></div>"
      ],
      "text/plain": [
       "Lasso(alpha=0.1)"
      ]
     },
     "execution_count": 63,
     "metadata": {},
     "output_type": "execute_result"
    }
   ],
   "source": [
    "lasso = Lasso(alpha = .1)\n",
    "\n",
    "lasso.fit(X_scaled, y) "
   ]
  },
  {
   "cell_type": "code",
   "execution_count": 64,
   "id": "8de411ec-c082-4c07-9e0c-7d0f6bb10f62",
   "metadata": {},
   "outputs": [],
   "source": [
    "coefficients = lasso.coef_"
   ]
  },
  {
   "cell_type": "code",
   "execution_count": 67,
   "id": "1960ab7f-e699-43bf-ac4c-b63628713811",
   "metadata": {},
   "outputs": [
    {
     "data": {
      "image/png": "[encoded data removed]",
      "text/plain": [
       "<Figure size 1200x500 with 1 Axes>"
      ]
     },
     "metadata": {},
     "output_type": "display_data"
    }
   ],
   "source": [
    "plt.figure(figsize = (12,5)) \n",
    "plt.bar(range(len(coefficients)), coefficients,\n",
    "        tick_label = X.columns)\n",
    "plt.xticks(rotation=45)\n",
    "plt.axhline(0., color = \"red\") \n",
    "plt.show()"
   ]
  },
  {
   "cell_type": "markdown",
   "id": "e130a2be",
   "metadata": {},
   "source": [
    "# 5.) Do these coefficient magnitudes make sense?"
   ]
  },
  {
   "cell_type": "markdown",
   "id": "28634c66-b595-49b9-9672-13120ed39bd3",
   "metadata": {},
   "source": [
    "Considering what we can observe in the graph, we can conclude that the maginitudes make sense. During that year, the *MacBook* was not yet in the market, as well as the first *iPhones* nor *iPads*. However, it is important to observe that during that day the *Apple Share Price* had a big positive magnitude. On the other hand, *Cellphone* and *iPod* also show and observable magnitude, but a negative one. The rest of the coefficient magnitudes are not observable since the values are close to 0. Nevertheless, it was expected that *Apple CEO* would have a bigger magnitude. "
   ]
  }
 ],
 "metadata": {
  "kernelspec": {
   "display_name": "Python 3 (ipykernel)",
   "language": "python",
   "name": "python3"
  },
  "language_info": {
   "codemirror_mode": {
    "name": "ipython",
    "version": 3
   },
   "file_extension": ".py",
   "mimetype": "text/x-python",
   "name": "python",
   "nbconvert_exporter": "python",
   "pygments_lexer": "ipython3",
   "version": "3.11.5"
  }
 },
 "nbformat": 4,
 "nbformat_minor": 5
}
