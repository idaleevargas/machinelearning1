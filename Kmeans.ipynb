{
  "cells": [
    {
      "cell_type": "markdown",
      "metadata": {
        "id": "7ywSRtNI4s5h"
      },
      "source": [
        "# 0.) Import and Clean data"
      ]
    },
    {
      "cell_type": "code",
      "execution_count": 76,
      "metadata": {
        "id": "nsG1QV154GYZ"
      },
      "outputs": [],
      "source": [
        "import pandas as pd\n",
        "# from google.colab import drive\n",
        "import matplotlib.pyplot as plt\n",
        "import numpy as np\n",
        "from sklearn.preprocessing import StandardScaler\n",
        "from sklearn.cluster import KMeans"
      ]
    },
    {
      "cell_type": "code",
      "execution_count": 77,
      "metadata": {
        "id": "Iku0T8Ou4Lcu"
      },
      "outputs": [],
      "source": [
        "#drive.mount('/content/gdrive/', force_remount = True)\n",
        "df = pd.read_csv(\"Country-data.csv\", sep = \",\")"
      ]
    },
    {
      "cell_type": "code",
      "execution_count": 78,
      "metadata": {
        "id": "mKWSRv-q98wE"
      },
      "outputs": [
        {
          "data": {
            "text/html": [
              "<div>\n",
              "<style scoped>\n",
              "    .dataframe tbody tr th:only-of-type {\n",
              "        vertical-align: middle;\n",
              "    }\n",
              "\n",
              "    .dataframe tbody tr th {\n",
              "        vertical-align: top;\n",
              "    }\n",
              "\n",
              "    .dataframe thead th {\n",
              "        text-align: right;\n",
              "    }\n",
              "</style>\n",
              "<table border=\"1\" class=\"dataframe\">\n",
              "  <thead>\n",
              "    <tr style=\"text-align: right;\">\n",
              "      <th></th>\n",
              "      <th>country</th>\n",
              "      <th>child_mort</th>\n",
              "      <th>exports</th>\n",
              "      <th>health</th>\n",
              "      <th>imports</th>\n",
              "      <th>income</th>\n",
              "      <th>inflation</th>\n",
              "      <th>life_expec</th>\n",
              "      <th>total_fer</th>\n",
              "      <th>gdpp</th>\n",
              "    </tr>\n",
              "  </thead>\n",
              "  <tbody>\n",
              "    <tr>\n",
              "      <th>0</th>\n",
              "      <td>Afghanistan</td>\n",
              "      <td>90.2</td>\n",
              "      <td>10.0</td>\n",
              "      <td>7.58</td>\n",
              "      <td>44.9</td>\n",
              "      <td>1610</td>\n",
              "      <td>9.44</td>\n",
              "      <td>56.2</td>\n",
              "      <td>5.82</td>\n",
              "      <td>553</td>\n",
              "    </tr>\n",
              "    <tr>\n",
              "      <th>1</th>\n",
              "      <td>Albania</td>\n",
              "      <td>16.6</td>\n",
              "      <td>28.0</td>\n",
              "      <td>6.55</td>\n",
              "      <td>48.6</td>\n",
              "      <td>9930</td>\n",
              "      <td>4.49</td>\n",
              "      <td>76.3</td>\n",
              "      <td>1.65</td>\n",
              "      <td>4090</td>\n",
              "    </tr>\n",
              "    <tr>\n",
              "      <th>2</th>\n",
              "      <td>Algeria</td>\n",
              "      <td>27.3</td>\n",
              "      <td>38.4</td>\n",
              "      <td>4.17</td>\n",
              "      <td>31.4</td>\n",
              "      <td>12900</td>\n",
              "      <td>16.10</td>\n",
              "      <td>76.5</td>\n",
              "      <td>2.89</td>\n",
              "      <td>4460</td>\n",
              "    </tr>\n",
              "    <tr>\n",
              "      <th>3</th>\n",
              "      <td>Angola</td>\n",
              "      <td>119.0</td>\n",
              "      <td>62.3</td>\n",
              "      <td>2.85</td>\n",
              "      <td>42.9</td>\n",
              "      <td>5900</td>\n",
              "      <td>22.40</td>\n",
              "      <td>60.1</td>\n",
              "      <td>6.16</td>\n",
              "      <td>3530</td>\n",
              "    </tr>\n",
              "    <tr>\n",
              "      <th>4</th>\n",
              "      <td>Antigua and Barbuda</td>\n",
              "      <td>10.3</td>\n",
              "      <td>45.5</td>\n",
              "      <td>6.03</td>\n",
              "      <td>58.9</td>\n",
              "      <td>19100</td>\n",
              "      <td>1.44</td>\n",
              "      <td>76.8</td>\n",
              "      <td>2.13</td>\n",
              "      <td>12200</td>\n",
              "    </tr>\n",
              "  </tbody>\n",
              "</table>\n",
              "</div>"
            ],
            "text/plain": [
              "               country  child_mort  exports  health  imports  income  \\\n",
              "0          Afghanistan        90.2     10.0    7.58     44.9    1610   \n",
              "1              Albania        16.6     28.0    6.55     48.6    9930   \n",
              "2              Algeria        27.3     38.4    4.17     31.4   12900   \n",
              "3               Angola       119.0     62.3    2.85     42.9    5900   \n",
              "4  Antigua and Barbuda        10.3     45.5    6.03     58.9   19100   \n",
              "\n",
              "   inflation  life_expec  total_fer   gdpp  \n",
              "0       9.44        56.2       5.82    553  \n",
              "1       4.49        76.3       1.65   4090  \n",
              "2      16.10        76.5       2.89   4460  \n",
              "3      22.40        60.1       6.16   3530  \n",
              "4       1.44        76.8       2.13  12200  "
            ]
          },
          "execution_count": 78,
          "metadata": {},
          "output_type": "execute_result"
        }
      ],
      "source": [
        "df.head()"
      ]
    },
    {
      "cell_type": "code",
      "execution_count": 79,
      "metadata": {
        "id": "Oj-k5XJNCNOr"
      },
      "outputs": [],
      "source": [
        "names = df[['country']].copy\n",
        "X = df.drop(\"country\", axis = 1)"
      ]
    },
    {
      "cell_type": "code",
      "execution_count": 80,
      "metadata": {
        "id": "amzzWZ-G9SNe"
      },
      "outputs": [],
      "source": [
        "scaler = StandardScaler().fit(X)\n",
        "X_scaled = scaler.transform(X)"
      ]
    },
    {
      "cell_type": "code",
      "execution_count": null,
      "metadata": {
        "id": "PavsPgGU9Rrx"
      },
      "outputs": [],
      "source": []
    },
    {
      "cell_type": "code",
      "execution_count": null,
      "metadata": {
        "id": "DKi1mPRN9DOk"
      },
      "outputs": [],
      "source": []
    },
    {
      "cell_type": "code",
      "execution_count": null,
      "metadata": {
        "id": "_pymTFCVMZCN"
      },
      "outputs": [],
      "source": []
    },
    {
      "cell_type": "markdown",
      "metadata": {
        "id": "YLn6XlFqMaCY"
      },
      "source": [
        "# 1.) Fit a kmeans Model with any Number of Clusters"
      ]
    },
    {
      "cell_type": "code",
      "execution_count": 81,
      "metadata": {
        "id": "ntDMWRN-8yAi"
      },
      "outputs": [],
      "source": [
        "kmeans = KMeans(n_clusters=5).fit(X_scaled)\n"
      ]
    },
    {
      "cell_type": "code",
      "execution_count": null,
      "metadata": {
        "id": "bzwvr8PJMtrr"
      },
      "outputs": [],
      "source": []
    },
    {
      "cell_type": "markdown",
      "metadata": {
        "id": "LkpVmNYRMtyq"
      },
      "source": [
        "# 2.) Pick two features to visualize across"
      ]
    },
    {
      "cell_type": "code",
      "execution_count": 82,
      "metadata": {
        "colab": {
          "base_uri": "https://localhost:8080/"
        },
        "id": "oTmfYVYrN53a",
        "outputId": "a5a09b29-e94a-4ea6-a0df-c7873220ab90"
      },
      "outputs": [
        {
          "data": {
            "text/plain": [
              "Index(['child_mort', 'exports', 'health', 'imports', 'income', 'inflation',\n",
              "       'life_expec', 'total_fer', 'gdpp'],\n",
              "      dtype='object')"
            ]
          },
          "execution_count": 82,
          "metadata": {},
          "output_type": "execute_result"
        }
      ],
      "source": [
        "X.columns"
      ]
    },
    {
      "cell_type": "code",
      "execution_count": 83,
      "metadata": {
        "id": "GksDZxUsDbzM"
      },
      "outputs": [
        {
          "data": {
            "image/png": "[encoded data removed]",
            "text/plain": [
              "<Figure size 640x480 with 1 Axes>"
            ]
          },
          "metadata": {},
          "output_type": "display_data"
        }
      ],
      "source": [
        "import matplotlib.pyplot as plt\n",
        "\n",
        "x1_index = 0\n",
        "x2_index = 3\n",
        "\n",
        "\n",
        "scatter = plt.scatter(X_scaled[:, x1_index], X_scaled[:, x2_index], c=kmeans.labels_, cmap='viridis', label='Clusters')\n",
        "\n",
        "centers = plt.scatter(kmeans.cluster_centers_[:, x1_index], kmeans.cluster_centers_[:, x2_index], marker='o', color='black', s=100, label='Centers')\n",
        "\n",
        "plt.xlabel(X.columns[x1_index])\n",
        "plt.ylabel(X.columns[x2_index])\n",
        "plt.title('Scatter Plot of Customers')\n",
        "\n",
        "# Generate legend\n",
        "plt.legend()\n",
        "\n",
        "plt.grid()\n",
        "plt.show()"
      ]
    },
    {
      "cell_type": "code",
      "execution_count": null,
      "metadata": {
        "id": "s5_iv2ODDb2a"
      },
      "outputs": [],
      "source": []
    },
    {
      "cell_type": "code",
      "execution_count": null,
      "metadata": {
        "id": "j62ujepWDb5R"
      },
      "outputs": [],
      "source": []
    },
    {
      "cell_type": "markdown",
      "metadata": {
        "id": "827DR0zsOkNA"
      },
      "source": [
        "# 3.) Check a range of k-clusters and visualize to find the elbow. Test 30 different random starting places for the centroid means\n"
      ]
    },
    {
      "cell_type": "code",
      "execution_count": 84,
      "metadata": {
        "id": "L66GonbU5NAg"
      },
      "outputs": [],
      "source": [
        "WCSSs =[]\n",
        "Ks = range(1,15)\n",
        "for k in Ks:\n",
        "    kmeans = KMeans(n_clusters=k,\n",
        "                    n_init=30).fit(X_scaled)\n",
        "    WCSSs.append(kmeans.inertia_)"
      ]
    },
    {
      "cell_type": "code",
      "execution_count": 85,
      "metadata": {
        "id": "2_YuJa4IFKda"
      },
      "outputs": [],
      "source": [
        "# OPTIONAL DO IN 1 LINE OF CODE\n",
        "\n",
        "WCSSs = [KMeans(n_clusters=k,\n",
        "                n_init=30).fit(X_scaled).inertia_ for k in range (1,15)]"
      ]
    },
    {
      "cell_type": "code",
      "execution_count": 86,
      "metadata": {
        "id": "xVkOkyieotiv"
      },
      "outputs": [
        {
          "data": {
            "image/png": "[encoded data removed]",
            "text/plain": [
              "<Figure size 640x480 with 1 Axes>"
            ]
          },
          "metadata": {},
          "output_type": "display_data"
        }
      ],
      "source": [
        "plt.plot(WCSSs)\n",
        "plt.xlabel(\"# of clusters\")\n",
        "plt.ylabel(\"WCSSs\")\n",
        "plt.show()"
      ]
    },
    {
      "cell_type": "markdown",
      "metadata": {
        "id": "aNEDRA7XPkMN"
      },
      "source": [
        "# 4.) Use the above work and economic critical thinking to choose a number of clusters. Explain why you chose the number of clusters and fit a model accordingly."
      ]
    },
    {
      "cell_type": "code",
      "execution_count": 125,
      "metadata": {
        "id": "Vfz1eA5ZP4wE"
      },
      "outputs": [],
      "source": [
        "kmeans = KMeans(n_clusters=4,\n",
        "                n_init=30).fit(X_scaled)\n"
      ]
    },
    {
      "cell_type": "code",
      "execution_count": 126,
      "metadata": {
        "id": "5x15dZXcpd83"
      },
      "outputs": [],
      "source": [
        "preds = pd.DataFrame(kmeans.labels_)\n"
      ]
    },
    {
      "cell_type": "code",
      "execution_count": 127,
      "metadata": {
        "id": "SyN98hIcpd_c"
      },
      "outputs": [
        {
          "data": {
            "text/html": [
              "<div>\n",
              "<style scoped>\n",
              "    .dataframe tbody tr th:only-of-type {\n",
              "        vertical-align: middle;\n",
              "    }\n",
              "\n",
              "    .dataframe tbody tr th {\n",
              "        vertical-align: top;\n",
              "    }\n",
              "\n",
              "    .dataframe thead th {\n",
              "        text-align: right;\n",
              "    }\n",
              "</style>\n",
              "<table border=\"1\" class=\"dataframe\">\n",
              "  <thead>\n",
              "    <tr style=\"text-align: right;\">\n",
              "      <th></th>\n",
              "      <th>0</th>\n",
              "      <th>country</th>\n",
              "      <th>child_mort</th>\n",
              "      <th>exports</th>\n",
              "      <th>health</th>\n",
              "      <th>imports</th>\n",
              "      <th>income</th>\n",
              "      <th>inflation</th>\n",
              "      <th>life_expec</th>\n",
              "      <th>total_fer</th>\n",
              "      <th>gdpp</th>\n",
              "    </tr>\n",
              "  </thead>\n",
              "  <tbody>\n",
              "    <tr>\n",
              "      <th>0</th>\n",
              "      <td>2</td>\n",
              "      <td>Afghanistan</td>\n",
              "      <td>90.2</td>\n",
              "      <td>10.0</td>\n",
              "      <td>7.58</td>\n",
              "      <td>44.9</td>\n",
              "      <td>1610</td>\n",
              "      <td>9.44</td>\n",
              "      <td>56.2</td>\n",
              "      <td>5.82</td>\n",
              "      <td>553</td>\n",
              "    </tr>\n",
              "    <tr>\n",
              "      <th>1</th>\n",
              "      <td>1</td>\n",
              "      <td>Albania</td>\n",
              "      <td>16.6</td>\n",
              "      <td>28.0</td>\n",
              "      <td>6.55</td>\n",
              "      <td>48.6</td>\n",
              "      <td>9930</td>\n",
              "      <td>4.49</td>\n",
              "      <td>76.3</td>\n",
              "      <td>1.65</td>\n",
              "      <td>4090</td>\n",
              "    </tr>\n",
              "    <tr>\n",
              "      <th>2</th>\n",
              "      <td>1</td>\n",
              "      <td>Algeria</td>\n",
              "      <td>27.3</td>\n",
              "      <td>38.4</td>\n",
              "      <td>4.17</td>\n",
              "      <td>31.4</td>\n",
              "      <td>12900</td>\n",
              "      <td>16.10</td>\n",
              "      <td>76.5</td>\n",
              "      <td>2.89</td>\n",
              "      <td>4460</td>\n",
              "    </tr>\n",
              "    <tr>\n",
              "      <th>3</th>\n",
              "      <td>2</td>\n",
              "      <td>Angola</td>\n",
              "      <td>119.0</td>\n",
              "      <td>62.3</td>\n",
              "      <td>2.85</td>\n",
              "      <td>42.9</td>\n",
              "      <td>5900</td>\n",
              "      <td>22.40</td>\n",
              "      <td>60.1</td>\n",
              "      <td>6.16</td>\n",
              "      <td>3530</td>\n",
              "    </tr>\n",
              "    <tr>\n",
              "      <th>4</th>\n",
              "      <td>1</td>\n",
              "      <td>Antigua and Barbuda</td>\n",
              "      <td>10.3</td>\n",
              "      <td>45.5</td>\n",
              "      <td>6.03</td>\n",
              "      <td>58.9</td>\n",
              "      <td>19100</td>\n",
              "      <td>1.44</td>\n",
              "      <td>76.8</td>\n",
              "      <td>2.13</td>\n",
              "      <td>12200</td>\n",
              "    </tr>\n",
              "    <tr>\n",
              "      <th>...</th>\n",
              "      <td>...</td>\n",
              "      <td>...</td>\n",
              "      <td>...</td>\n",
              "      <td>...</td>\n",
              "      <td>...</td>\n",
              "      <td>...</td>\n",
              "      <td>...</td>\n",
              "      <td>...</td>\n",
              "      <td>...</td>\n",
              "      <td>...</td>\n",
              "      <td>...</td>\n",
              "    </tr>\n",
              "    <tr>\n",
              "      <th>162</th>\n",
              "      <td>1</td>\n",
              "      <td>Vanuatu</td>\n",
              "      <td>29.2</td>\n",
              "      <td>46.6</td>\n",
              "      <td>5.25</td>\n",
              "      <td>52.7</td>\n",
              "      <td>2950</td>\n",
              "      <td>2.62</td>\n",
              "      <td>63.0</td>\n",
              "      <td>3.50</td>\n",
              "      <td>2970</td>\n",
              "    </tr>\n",
              "    <tr>\n",
              "      <th>163</th>\n",
              "      <td>1</td>\n",
              "      <td>Venezuela</td>\n",
              "      <td>17.1</td>\n",
              "      <td>28.5</td>\n",
              "      <td>4.91</td>\n",
              "      <td>17.6</td>\n",
              "      <td>16500</td>\n",
              "      <td>45.90</td>\n",
              "      <td>75.4</td>\n",
              "      <td>2.47</td>\n",
              "      <td>13500</td>\n",
              "    </tr>\n",
              "    <tr>\n",
              "      <th>164</th>\n",
              "      <td>1</td>\n",
              "      <td>Vietnam</td>\n",
              "      <td>23.3</td>\n",
              "      <td>72.0</td>\n",
              "      <td>6.84</td>\n",
              "      <td>80.2</td>\n",
              "      <td>4490</td>\n",
              "      <td>12.10</td>\n",
              "      <td>73.1</td>\n",
              "      <td>1.95</td>\n",
              "      <td>1310</td>\n",
              "    </tr>\n",
              "    <tr>\n",
              "      <th>165</th>\n",
              "      <td>2</td>\n",
              "      <td>Yemen</td>\n",
              "      <td>56.3</td>\n",
              "      <td>30.0</td>\n",
              "      <td>5.18</td>\n",
              "      <td>34.4</td>\n",
              "      <td>4480</td>\n",
              "      <td>23.60</td>\n",
              "      <td>67.5</td>\n",
              "      <td>4.67</td>\n",
              "      <td>1310</td>\n",
              "    </tr>\n",
              "    <tr>\n",
              "      <th>166</th>\n",
              "      <td>2</td>\n",
              "      <td>Zambia</td>\n",
              "      <td>83.1</td>\n",
              "      <td>37.0</td>\n",
              "      <td>5.89</td>\n",
              "      <td>30.9</td>\n",
              "      <td>3280</td>\n",
              "      <td>14.00</td>\n",
              "      <td>52.0</td>\n",
              "      <td>5.40</td>\n",
              "      <td>1460</td>\n",
              "    </tr>\n",
              "  </tbody>\n",
              "</table>\n",
              "<p>167 rows × 11 columns</p>\n",
              "</div>"
            ],
            "text/plain": [
              "     0              country  child_mort  exports  health  imports  income  \\\n",
              "0    2          Afghanistan        90.2     10.0    7.58     44.9    1610   \n",
              "1    1              Albania        16.6     28.0    6.55     48.6    9930   \n",
              "2    1              Algeria        27.3     38.4    4.17     31.4   12900   \n",
              "3    2               Angola       119.0     62.3    2.85     42.9    5900   \n",
              "4    1  Antigua and Barbuda        10.3     45.5    6.03     58.9   19100   \n",
              "..  ..                  ...         ...      ...     ...      ...     ...   \n",
              "162  1              Vanuatu        29.2     46.6    5.25     52.7    2950   \n",
              "163  1            Venezuela        17.1     28.5    4.91     17.6   16500   \n",
              "164  1              Vietnam        23.3     72.0    6.84     80.2    4490   \n",
              "165  2                Yemen        56.3     30.0    5.18     34.4    4480   \n",
              "166  2               Zambia        83.1     37.0    5.89     30.9    3280   \n",
              "\n",
              "     inflation  life_expec  total_fer   gdpp  \n",
              "0         9.44        56.2       5.82    553  \n",
              "1         4.49        76.3       1.65   4090  \n",
              "2        16.10        76.5       2.89   4460  \n",
              "3        22.40        60.1       6.16   3530  \n",
              "4         1.44        76.8       2.13  12200  \n",
              "..         ...         ...        ...    ...  \n",
              "162       2.62        63.0       3.50   2970  \n",
              "163      45.90        75.4       2.47  13500  \n",
              "164      12.10        73.1       1.95   1310  \n",
              "165      23.60        67.5       4.67   1310  \n",
              "166      14.00        52.0       5.40   1460  \n",
              "\n",
              "[167 rows x 11 columns]"
            ]
          },
          "execution_count": 127,
          "metadata": {},
          "output_type": "execute_result"
        }
      ],
      "source": [
        "output = pd.concat([preds, df], axis = 1)\n",
        "output"
      ]
    },
    {
      "cell_type": "code",
      "execution_count": 130,
      "metadata": {
        "id": "q2rbkLFksEAv"
      },
      "outputs": [
        {
          "name": "stderr",
          "output_type": "stream",
          "text": [
            "/var/folders/dt/1b6q3xtd4g5bbyfmssxs3h800000gn/T/ipykernel_34907/2649171287.py:1: FutureWarning: The default value of numeric_only in DataFrameGroupBy.mean is deprecated. In a future version, numeric_only will default to False. Either specify numeric_only or select only columns which should be valid for the function.\n",
            "  output.groupby(0).mean()\n"
          ]
        },
        {
          "data": {
            "text/html": [
              "<div>\n",
              "<style scoped>\n",
              "    .dataframe tbody tr th:only-of-type {\n",
              "        vertical-align: middle;\n",
              "    }\n",
              "\n",
              "    .dataframe tbody tr th {\n",
              "        vertical-align: top;\n",
              "    }\n",
              "\n",
              "    .dataframe thead th {\n",
              "        text-align: right;\n",
              "    }\n",
              "</style>\n",
              "<table border=\"1\" class=\"dataframe\">\n",
              "  <thead>\n",
              "    <tr style=\"text-align: right;\">\n",
              "      <th></th>\n",
              "      <th>child_mort</th>\n",
              "      <th>exports</th>\n",
              "      <th>health</th>\n",
              "      <th>imports</th>\n",
              "      <th>income</th>\n",
              "      <th>inflation</th>\n",
              "      <th>life_expec</th>\n",
              "      <th>total_fer</th>\n",
              "      <th>gdpp</th>\n",
              "    </tr>\n",
              "    <tr>\n",
              "      <th>0</th>\n",
              "      <th></th>\n",
              "      <th></th>\n",
              "      <th></th>\n",
              "      <th></th>\n",
              "      <th></th>\n",
              "      <th></th>\n",
              "      <th></th>\n",
              "      <th></th>\n",
              "      <th></th>\n",
              "    </tr>\n",
              "  </thead>\n",
              "  <tbody>\n",
              "    <tr>\n",
              "      <th>0</th>\n",
              "      <td>4.953333</td>\n",
              "      <td>45.826667</td>\n",
              "      <td>9.168667</td>\n",
              "      <td>39.736667</td>\n",
              "      <td>45250.000000</td>\n",
              "      <td>2.742200</td>\n",
              "      <td>80.376667</td>\n",
              "      <td>1.795333</td>\n",
              "      <td>43333.333333</td>\n",
              "    </tr>\n",
              "    <tr>\n",
              "      <th>1</th>\n",
              "      <td>21.743182</td>\n",
              "      <td>41.316920</td>\n",
              "      <td>6.259318</td>\n",
              "      <td>48.075749</td>\n",
              "      <td>12972.386364</td>\n",
              "      <td>7.430580</td>\n",
              "      <td>72.755682</td>\n",
              "      <td>2.293295</td>\n",
              "      <td>6912.636364</td>\n",
              "    </tr>\n",
              "    <tr>\n",
              "      <th>2</th>\n",
              "      <td>93.841304</td>\n",
              "      <td>28.837174</td>\n",
              "      <td>6.346957</td>\n",
              "      <td>42.128261</td>\n",
              "      <td>3738.978261</td>\n",
              "      <td>12.087065</td>\n",
              "      <td>59.232609</td>\n",
              "      <td>5.054348</td>\n",
              "      <td>1826.130435</td>\n",
              "    </tr>\n",
              "    <tr>\n",
              "      <th>3</th>\n",
              "      <td>4.133333</td>\n",
              "      <td>176.000000</td>\n",
              "      <td>6.793333</td>\n",
              "      <td>156.666667</td>\n",
              "      <td>64033.333333</td>\n",
              "      <td>2.468000</td>\n",
              "      <td>81.433333</td>\n",
              "      <td>1.380000</td>\n",
              "      <td>57566.666667</td>\n",
              "    </tr>\n",
              "  </tbody>\n",
              "</table>\n",
              "</div>"
            ],
            "text/plain": [
              "   child_mort     exports    health     imports        income  inflation  \\\n",
              "0                                                                          \n",
              "0    4.953333   45.826667  9.168667   39.736667  45250.000000   2.742200   \n",
              "1   21.743182   41.316920  6.259318   48.075749  12972.386364   7.430580   \n",
              "2   93.841304   28.837174  6.346957   42.128261   3738.978261  12.087065   \n",
              "3    4.133333  176.000000  6.793333  156.666667  64033.333333   2.468000   \n",
              "\n",
              "   life_expec  total_fer          gdpp  \n",
              "0                                       \n",
              "0   80.376667   1.795333  43333.333333  \n",
              "1   72.755682   2.293295   6912.636364  \n",
              "2   59.232609   5.054348   1826.130435  \n",
              "3   81.433333   1.380000  57566.666667  "
            ]
          },
          "execution_count": 130,
          "metadata": {},
          "output_type": "execute_result"
        }
      ],
      "source": [
        "output.groupby(0).mean()"
      ]
    },
    {
      "cell_type": "markdown",
      "metadata": {
        "id": "FNgPPYCGsE4X"
      },
      "source": [
        "# 6.) Do the same for a silhoutte plot"
      ]
    },
    {
      "cell_type": "code",
      "execution_count": 87,
      "metadata": {
        "id": "I8YXoj7SsM8S"
      },
      "outputs": [],
      "source": [
        "from sklearn.metrics import silhouette_score"
      ]
    },
    {
      "cell_type": "code",
      "execution_count": 88,
      "metadata": {
        "id": "74EiOYI8sDv7"
      },
      "outputs": [],
      "source": [
        "SSs = []\n",
        "Ks = range(2,15)\n",
        "for k in Ks:\n",
        "    kmeans = KMeans(n_clusters=k,\n",
        "                    n_init=30).fit(X_scaled)\n",
        "    sil = silhouette_score(X_scaled, kmeans.labels_)\n",
        "    SSs.append(sil)"
      ]
    },
    {
      "cell_type": "code",
      "execution_count": 89,
      "metadata": {},
      "outputs": [
        {
          "data": {
            "image/png": "[encoded data removed]",
            "text/plain": [
              "<Figure size 640x480 with 1 Axes>"
            ]
          },
          "metadata": {},
          "output_type": "display_data"
        }
      ],
      "source": [
        "plt.plot(SSs)\n",
        "plt.xlabel(\"# of clusters\")\n",
        "plt.ylabel(\"WCSSs\")\n",
        "plt.show()"
      ]
    },
    {
      "cell_type": "markdown",
      "metadata": {
        "id": "Z6xfLRZIRfdl"
      },
      "source": [
        "# 7.) Create a list of the countries that are in each cluster. Write interesting things you notice."
      ]
    },
    {
      "cell_type": "code",
      "execution_count": 90,
      "metadata": {
        "id": "fGuVFuzxStqP"
      },
      "outputs": [],
      "source": [
        "kmeans = KMeans(n_clusters=2,\n",
        "                    n_init=30).fit(X_scaled)"
      ]
    },
    {
      "cell_type": "code",
      "execution_count": 91,
      "metadata": {
        "id": "qFlTV1xWp-gO"
      },
      "outputs": [],
      "source": [
        "preds = pd.DataFrame(kmeans.labels_)"
      ]
    },
    {
      "cell_type": "code",
      "execution_count": 92,
      "metadata": {
        "id": "w1k1V7SxtMzr"
      },
      "outputs": [
        {
          "data": {
            "text/html": [
              "<div>\n",
              "<style scoped>\n",
              "    .dataframe tbody tr th:only-of-type {\n",
              "        vertical-align: middle;\n",
              "    }\n",
              "\n",
              "    .dataframe tbody tr th {\n",
              "        vertical-align: top;\n",
              "    }\n",
              "\n",
              "    .dataframe thead th {\n",
              "        text-align: right;\n",
              "    }\n",
              "</style>\n",
              "<table border=\"1\" class=\"dataframe\">\n",
              "  <thead>\n",
              "    <tr style=\"text-align: right;\">\n",
              "      <th></th>\n",
              "      <th>0</th>\n",
              "      <th>country</th>\n",
              "      <th>child_mort</th>\n",
              "      <th>exports</th>\n",
              "      <th>health</th>\n",
              "      <th>imports</th>\n",
              "      <th>income</th>\n",
              "      <th>inflation</th>\n",
              "      <th>life_expec</th>\n",
              "      <th>total_fer</th>\n",
              "      <th>gdpp</th>\n",
              "    </tr>\n",
              "  </thead>\n",
              "  <tbody>\n",
              "    <tr>\n",
              "      <th>0</th>\n",
              "      <td>1</td>\n",
              "      <td>Afghanistan</td>\n",
              "      <td>90.2</td>\n",
              "      <td>10.0</td>\n",
              "      <td>7.58</td>\n",
              "      <td>44.9</td>\n",
              "      <td>1610</td>\n",
              "      <td>9.44</td>\n",
              "      <td>56.2</td>\n",
              "      <td>5.82</td>\n",
              "      <td>553</td>\n",
              "    </tr>\n",
              "    <tr>\n",
              "      <th>1</th>\n",
              "      <td>0</td>\n",
              "      <td>Albania</td>\n",
              "      <td>16.6</td>\n",
              "      <td>28.0</td>\n",
              "      <td>6.55</td>\n",
              "      <td>48.6</td>\n",
              "      <td>9930</td>\n",
              "      <td>4.49</td>\n",
              "      <td>76.3</td>\n",
              "      <td>1.65</td>\n",
              "      <td>4090</td>\n",
              "    </tr>\n",
              "    <tr>\n",
              "      <th>2</th>\n",
              "      <td>0</td>\n",
              "      <td>Algeria</td>\n",
              "      <td>27.3</td>\n",
              "      <td>38.4</td>\n",
              "      <td>4.17</td>\n",
              "      <td>31.4</td>\n",
              "      <td>12900</td>\n",
              "      <td>16.10</td>\n",
              "      <td>76.5</td>\n",
              "      <td>2.89</td>\n",
              "      <td>4460</td>\n",
              "    </tr>\n",
              "    <tr>\n",
              "      <th>3</th>\n",
              "      <td>1</td>\n",
              "      <td>Angola</td>\n",
              "      <td>119.0</td>\n",
              "      <td>62.3</td>\n",
              "      <td>2.85</td>\n",
              "      <td>42.9</td>\n",
              "      <td>5900</td>\n",
              "      <td>22.40</td>\n",
              "      <td>60.1</td>\n",
              "      <td>6.16</td>\n",
              "      <td>3530</td>\n",
              "    </tr>\n",
              "    <tr>\n",
              "      <th>4</th>\n",
              "      <td>0</td>\n",
              "      <td>Antigua and Barbuda</td>\n",
              "      <td>10.3</td>\n",
              "      <td>45.5</td>\n",
              "      <td>6.03</td>\n",
              "      <td>58.9</td>\n",
              "      <td>19100</td>\n",
              "      <td>1.44</td>\n",
              "      <td>76.8</td>\n",
              "      <td>2.13</td>\n",
              "      <td>12200</td>\n",
              "    </tr>\n",
              "    <tr>\n",
              "      <th>...</th>\n",
              "      <td>...</td>\n",
              "      <td>...</td>\n",
              "      <td>...</td>\n",
              "      <td>...</td>\n",
              "      <td>...</td>\n",
              "      <td>...</td>\n",
              "      <td>...</td>\n",
              "      <td>...</td>\n",
              "      <td>...</td>\n",
              "      <td>...</td>\n",
              "      <td>...</td>\n",
              "    </tr>\n",
              "    <tr>\n",
              "      <th>162</th>\n",
              "      <td>1</td>\n",
              "      <td>Vanuatu</td>\n",
              "      <td>29.2</td>\n",
              "      <td>46.6</td>\n",
              "      <td>5.25</td>\n",
              "      <td>52.7</td>\n",
              "      <td>2950</td>\n",
              "      <td>2.62</td>\n",
              "      <td>63.0</td>\n",
              "      <td>3.50</td>\n",
              "      <td>2970</td>\n",
              "    </tr>\n",
              "    <tr>\n",
              "      <th>163</th>\n",
              "      <td>0</td>\n",
              "      <td>Venezuela</td>\n",
              "      <td>17.1</td>\n",
              "      <td>28.5</td>\n",
              "      <td>4.91</td>\n",
              "      <td>17.6</td>\n",
              "      <td>16500</td>\n",
              "      <td>45.90</td>\n",
              "      <td>75.4</td>\n",
              "      <td>2.47</td>\n",
              "      <td>13500</td>\n",
              "    </tr>\n",
              "    <tr>\n",
              "      <th>164</th>\n",
              "      <td>0</td>\n",
              "      <td>Vietnam</td>\n",
              "      <td>23.3</td>\n",
              "      <td>72.0</td>\n",
              "      <td>6.84</td>\n",
              "      <td>80.2</td>\n",
              "      <td>4490</td>\n",
              "      <td>12.10</td>\n",
              "      <td>73.1</td>\n",
              "      <td>1.95</td>\n",
              "      <td>1310</td>\n",
              "    </tr>\n",
              "    <tr>\n",
              "      <th>165</th>\n",
              "      <td>1</td>\n",
              "      <td>Yemen</td>\n",
              "      <td>56.3</td>\n",
              "      <td>30.0</td>\n",
              "      <td>5.18</td>\n",
              "      <td>34.4</td>\n",
              "      <td>4480</td>\n",
              "      <td>23.60</td>\n",
              "      <td>67.5</td>\n",
              "      <td>4.67</td>\n",
              "      <td>1310</td>\n",
              "    </tr>\n",
              "    <tr>\n",
              "      <th>166</th>\n",
              "      <td>1</td>\n",
              "      <td>Zambia</td>\n",
              "      <td>83.1</td>\n",
              "      <td>37.0</td>\n",
              "      <td>5.89</td>\n",
              "      <td>30.9</td>\n",
              "      <td>3280</td>\n",
              "      <td>14.00</td>\n",
              "      <td>52.0</td>\n",
              "      <td>5.40</td>\n",
              "      <td>1460</td>\n",
              "    </tr>\n",
              "  </tbody>\n",
              "</table>\n",
              "<p>167 rows × 11 columns</p>\n",
              "</div>"
            ],
            "text/plain": [
              "     0              country  child_mort  exports  health  imports  income  \\\n",
              "0    1          Afghanistan        90.2     10.0    7.58     44.9    1610   \n",
              "1    0              Albania        16.6     28.0    6.55     48.6    9930   \n",
              "2    0              Algeria        27.3     38.4    4.17     31.4   12900   \n",
              "3    1               Angola       119.0     62.3    2.85     42.9    5900   \n",
              "4    0  Antigua and Barbuda        10.3     45.5    6.03     58.9   19100   \n",
              "..  ..                  ...         ...      ...     ...      ...     ...   \n",
              "162  1              Vanuatu        29.2     46.6    5.25     52.7    2950   \n",
              "163  0            Venezuela        17.1     28.5    4.91     17.6   16500   \n",
              "164  0              Vietnam        23.3     72.0    6.84     80.2    4490   \n",
              "165  1                Yemen        56.3     30.0    5.18     34.4    4480   \n",
              "166  1               Zambia        83.1     37.0    5.89     30.9    3280   \n",
              "\n",
              "     inflation  life_expec  total_fer   gdpp  \n",
              "0         9.44        56.2       5.82    553  \n",
              "1         4.49        76.3       1.65   4090  \n",
              "2        16.10        76.5       2.89   4460  \n",
              "3        22.40        60.1       6.16   3530  \n",
              "4         1.44        76.8       2.13  12200  \n",
              "..         ...         ...        ...    ...  \n",
              "162       2.62        63.0       3.50   2970  \n",
              "163      45.90        75.4       2.47  13500  \n",
              "164      12.10        73.1       1.95   1310  \n",
              "165      23.60        67.5       4.67   1310  \n",
              "166      14.00        52.0       5.40   1460  \n",
              "\n",
              "[167 rows x 11 columns]"
            ]
          },
          "execution_count": 92,
          "metadata": {},
          "output_type": "execute_result"
        }
      ],
      "source": [
        "output = pd.concat([preds, df], axis = 1)\n",
        "output"
      ]
    },
    {
      "cell_type": "code",
      "execution_count": 93,
      "metadata": {
        "id": "00UPyBcb7iev"
      },
      "outputs": [
        {
          "name": "stdout",
          "output_type": "stream",
          "text": [
            "Cluster 1: \n"
          ]
        },
        {
          "data": {
            "text/plain": [
              "['Albania',\n",
              " 'Algeria',\n",
              " 'Antigua and Barbuda',\n",
              " 'Argentina',\n",
              " 'Armenia',\n",
              " 'Australia',\n",
              " 'Austria',\n",
              " 'Azerbaijan',\n",
              " 'Bahamas',\n",
              " 'Bahrain',\n",
              " 'Barbados',\n",
              " 'Belarus',\n",
              " 'Belgium',\n",
              " 'Belize',\n",
              " 'Bhutan',\n",
              " 'Bosnia and Herzegovina',\n",
              " 'Brazil',\n",
              " 'Brunei',\n",
              " 'Bulgaria',\n",
              " 'Canada',\n",
              " 'Cape Verde',\n",
              " 'Chile',\n",
              " 'China',\n",
              " 'Colombia',\n",
              " 'Costa Rica',\n",
              " 'Croatia',\n",
              " 'Cyprus',\n",
              " 'Czech Republic',\n",
              " 'Denmark',\n",
              " 'Dominican Republic',\n",
              " 'Ecuador',\n",
              " 'El Salvador',\n",
              " 'Estonia',\n",
              " 'Fiji',\n",
              " 'Finland',\n",
              " 'France',\n",
              " 'Georgia',\n",
              " 'Germany',\n",
              " 'Greece',\n",
              " 'Grenada',\n",
              " 'Hungary',\n",
              " 'Iceland',\n",
              " 'Iran',\n",
              " 'Ireland',\n",
              " 'Israel',\n",
              " 'Italy',\n",
              " 'Jamaica',\n",
              " 'Japan',\n",
              " 'Jordan',\n",
              " 'Kazakhstan',\n",
              " 'Kuwait',\n",
              " 'Latvia',\n",
              " 'Lebanon',\n",
              " 'Libya',\n",
              " 'Lithuania',\n",
              " 'Luxembourg',\n",
              " 'Macedonia, FYR',\n",
              " 'Malaysia',\n",
              " 'Maldives',\n",
              " 'Malta',\n",
              " 'Mauritius',\n",
              " 'Moldova',\n",
              " 'Montenegro',\n",
              " 'Morocco',\n",
              " 'Netherlands',\n",
              " 'New Zealand',\n",
              " 'Norway',\n",
              " 'Oman',\n",
              " 'Panama',\n",
              " 'Paraguay',\n",
              " 'Peru',\n",
              " 'Poland',\n",
              " 'Portugal',\n",
              " 'Qatar',\n",
              " 'Romania',\n",
              " 'Russia',\n",
              " 'Saudi Arabia',\n",
              " 'Serbia',\n",
              " 'Seychelles',\n",
              " 'Singapore',\n",
              " 'Slovak Republic',\n",
              " 'Slovenia',\n",
              " 'South Korea',\n",
              " 'Spain',\n",
              " 'Sri Lanka',\n",
              " 'St. Vincent and the Grenadines',\n",
              " 'Suriname',\n",
              " 'Sweden',\n",
              " 'Switzerland',\n",
              " 'Thailand',\n",
              " 'Tunisia',\n",
              " 'Turkey',\n",
              " 'Ukraine',\n",
              " 'United Arab Emirates',\n",
              " 'United Kingdom',\n",
              " 'United States',\n",
              " 'Uruguay',\n",
              " 'Venezuela',\n",
              " 'Vietnam']"
            ]
          },
          "execution_count": 93,
          "metadata": {},
          "output_type": "execute_result"
        }
      ],
      "source": [
        "print(\"Cluster 1: \")\n",
        "list(output.loc[output[0] == 0, \"country\"])"
      ]
    },
    {
      "cell_type": "code",
      "execution_count": 94,
      "metadata": {
        "id": "Wyx_BAAip-l6"
      },
      "outputs": [
        {
          "name": "stdout",
          "output_type": "stream",
          "text": [
            "Cluster 2: \n"
          ]
        },
        {
          "data": {
            "text/plain": [
              "['Afghanistan',\n",
              " 'Angola',\n",
              " 'Bangladesh',\n",
              " 'Benin',\n",
              " 'Bolivia',\n",
              " 'Botswana',\n",
              " 'Burkina Faso',\n",
              " 'Burundi',\n",
              " 'Cambodia',\n",
              " 'Cameroon',\n",
              " 'Central African Republic',\n",
              " 'Chad',\n",
              " 'Comoros',\n",
              " 'Congo, Dem. Rep.',\n",
              " 'Congo, Rep.',\n",
              " \"Cote d'Ivoire\",\n",
              " 'Egypt',\n",
              " 'Equatorial Guinea',\n",
              " 'Eritrea',\n",
              " 'Gabon',\n",
              " 'Gambia',\n",
              " 'Ghana',\n",
              " 'Guatemala',\n",
              " 'Guinea',\n",
              " 'Guinea-Bissau',\n",
              " 'Guyana',\n",
              " 'Haiti',\n",
              " 'India',\n",
              " 'Indonesia',\n",
              " 'Iraq',\n",
              " 'Kenya',\n",
              " 'Kiribati',\n",
              " 'Kyrgyz Republic',\n",
              " 'Lao',\n",
              " 'Lesotho',\n",
              " 'Liberia',\n",
              " 'Madagascar',\n",
              " 'Malawi',\n",
              " 'Mali',\n",
              " 'Mauritania',\n",
              " 'Micronesia, Fed. Sts.',\n",
              " 'Mongolia',\n",
              " 'Mozambique',\n",
              " 'Myanmar',\n",
              " 'Namibia',\n",
              " 'Nepal',\n",
              " 'Niger',\n",
              " 'Nigeria',\n",
              " 'Pakistan',\n",
              " 'Philippines',\n",
              " 'Rwanda',\n",
              " 'Samoa',\n",
              " 'Senegal',\n",
              " 'Sierra Leone',\n",
              " 'Solomon Islands',\n",
              " 'South Africa',\n",
              " 'Sudan',\n",
              " 'Tajikistan',\n",
              " 'Tanzania',\n",
              " 'Timor-Leste',\n",
              " 'Togo',\n",
              " 'Tonga',\n",
              " 'Turkmenistan',\n",
              " 'Uganda',\n",
              " 'Uzbekistan',\n",
              " 'Vanuatu',\n",
              " 'Yemen',\n",
              " 'Zambia']"
            ]
          },
          "execution_count": 94,
          "metadata": {},
          "output_type": "execute_result"
        }
      ],
      "source": [
        "print(\"Cluster 2: \")\n",
        "list(output.loc[output[0] == 1, \"country\"])"
      ]
    },
    {
      "cell_type": "code",
      "execution_count": 95,
      "metadata": {
        "id": "LTutrUGlqqha"
      },
      "outputs": [],
      "source": [
        "#### Write an observation"
      ]
    },
    {
      "cell_type": "markdown",
      "metadata": {
        "id": "nEmf0AxkTJc1"
      },
      "source": [
        "#8.) Create a table of Descriptive Statistics. Rows being the Cluster number and columns being all the features. Values being the mean of the centroid. Use the nonscaled X values for interprotation"
      ]
    },
    {
      "cell_type": "code",
      "execution_count": 96,
      "metadata": {
        "id": "ELmUB7bMTIJL"
      },
      "outputs": [
        {
          "name": "stderr",
          "output_type": "stream",
          "text": [
            "/var/folders/dt/1b6q3xtd4g5bbyfmssxs3h800000gn/T/ipykernel_34907/2649171287.py:1: FutureWarning: The default value of numeric_only in DataFrameGroupBy.mean is deprecated. In a future version, numeric_only will default to False. Either specify numeric_only or select only columns which should be valid for the function.\n",
            "  output.groupby(0).mean()\n"
          ]
        },
        {
          "data": {
            "text/html": [
              "<div>\n",
              "<style scoped>\n",
              "    .dataframe tbody tr th:only-of-type {\n",
              "        vertical-align: middle;\n",
              "    }\n",
              "\n",
              "    .dataframe tbody tr th {\n",
              "        vertical-align: top;\n",
              "    }\n",
              "\n",
              "    .dataframe thead th {\n",
              "        text-align: right;\n",
              "    }\n",
              "</style>\n",
              "<table border=\"1\" class=\"dataframe\">\n",
              "  <thead>\n",
              "    <tr style=\"text-align: right;\">\n",
              "      <th></th>\n",
              "      <th>child_mort</th>\n",
              "      <th>exports</th>\n",
              "      <th>health</th>\n",
              "      <th>imports</th>\n",
              "      <th>income</th>\n",
              "      <th>inflation</th>\n",
              "      <th>life_expec</th>\n",
              "      <th>total_fer</th>\n",
              "      <th>gdpp</th>\n",
              "    </tr>\n",
              "    <tr>\n",
              "      <th>0</th>\n",
              "      <th></th>\n",
              "      <th></th>\n",
              "      <th></th>\n",
              "      <th></th>\n",
              "      <th></th>\n",
              "      <th></th>\n",
              "      <th></th>\n",
              "      <th></th>\n",
              "      <th></th>\n",
              "    </tr>\n",
              "  </thead>\n",
              "  <tbody>\n",
              "    <tr>\n",
              "      <th>0</th>\n",
              "      <td>12.161616</td>\n",
              "      <td>48.603030</td>\n",
              "      <td>7.314040</td>\n",
              "      <td>49.121212</td>\n",
              "      <td>26017.171717</td>\n",
              "      <td>5.503545</td>\n",
              "      <td>76.493939</td>\n",
              "      <td>1.941111</td>\n",
              "      <td>20507.979798</td>\n",
              "    </tr>\n",
              "    <tr>\n",
              "      <th>1</th>\n",
              "      <td>76.280882</td>\n",
              "      <td>30.198515</td>\n",
              "      <td>6.090147</td>\n",
              "      <td>43.642146</td>\n",
              "      <td>4227.397059</td>\n",
              "      <td>11.098750</td>\n",
              "      <td>61.910294</td>\n",
              "      <td>4.413824</td>\n",
              "      <td>1981.235294</td>\n",
              "    </tr>\n",
              "  </tbody>\n",
              "</table>\n",
              "</div>"
            ],
            "text/plain": [
              "   child_mort    exports    health    imports        income  inflation  \\\n",
              "0                                                                        \n",
              "0   12.161616  48.603030  7.314040  49.121212  26017.171717   5.503545   \n",
              "1   76.280882  30.198515  6.090147  43.642146   4227.397059  11.098750   \n",
              "\n",
              "   life_expec  total_fer          gdpp  \n",
              "0                                       \n",
              "0   76.493939   1.941111  20507.979798  \n",
              "1   61.910294   4.413824   1981.235294  "
            ]
          },
          "execution_count": 96,
          "metadata": {},
          "output_type": "execute_result"
        }
      ],
      "source": [
        "output.groupby(0).mean()"
      ]
    },
    {
      "cell_type": "code",
      "execution_count": 97,
      "metadata": {
        "id": "HpjZMgC4Smz9"
      },
      "outputs": [
        {
          "name": "stderr",
          "output_type": "stream",
          "text": [
            "/var/folders/dt/1b6q3xtd4g5bbyfmssxs3h800000gn/T/ipykernel_34907/2077230043.py:1: FutureWarning: The default value of numeric_only in DataFrameGroupBy.std is deprecated. In a future version, numeric_only will default to False. Either specify numeric_only or select only columns which should be valid for the function.\n",
            "  output.groupby(0).std()\n"
          ]
        },
        {
          "data": {
            "text/html": [
              "<div>\n",
              "<style scoped>\n",
              "    .dataframe tbody tr th:only-of-type {\n",
              "        vertical-align: middle;\n",
              "    }\n",
              "\n",
              "    .dataframe tbody tr th {\n",
              "        vertical-align: top;\n",
              "    }\n",
              "\n",
              "    .dataframe thead th {\n",
              "        text-align: right;\n",
              "    }\n",
              "</style>\n",
              "<table border=\"1\" class=\"dataframe\">\n",
              "  <thead>\n",
              "    <tr style=\"text-align: right;\">\n",
              "      <th></th>\n",
              "      <th>child_mort</th>\n",
              "      <th>exports</th>\n",
              "      <th>health</th>\n",
              "      <th>imports</th>\n",
              "      <th>income</th>\n",
              "      <th>inflation</th>\n",
              "      <th>life_expec</th>\n",
              "      <th>total_fer</th>\n",
              "      <th>gdpp</th>\n",
              "    </tr>\n",
              "    <tr>\n",
              "      <th>0</th>\n",
              "      <th></th>\n",
              "      <th></th>\n",
              "      <th></th>\n",
              "      <th></th>\n",
              "      <th></th>\n",
              "      <th></th>\n",
              "      <th></th>\n",
              "      <th></th>\n",
              "      <th></th>\n",
              "    </tr>\n",
              "  </thead>\n",
              "  <tbody>\n",
              "    <tr>\n",
              "      <th>0</th>\n",
              "      <td>8.523122</td>\n",
              "      <td>30.116032</td>\n",
              "      <td>2.716652</td>\n",
              "      <td>26.928785</td>\n",
              "      <td>20441.749847</td>\n",
              "      <td>6.957187</td>\n",
              "      <td>3.735757</td>\n",
              "      <td>0.486744</td>\n",
              "      <td>20578.727127</td>\n",
              "    </tr>\n",
              "    <tr>\n",
              "      <th>1</th>\n",
              "      <td>38.076068</td>\n",
              "      <td>18.201742</td>\n",
              "      <td>2.645319</td>\n",
              "      <td>19.323451</td>\n",
              "      <td>4890.581414</td>\n",
              "      <td>13.682630</td>\n",
              "      <td>6.897418</td>\n",
              "      <td>1.285590</td>\n",
              "      <td>2528.509189</td>\n",
              "    </tr>\n",
              "  </tbody>\n",
              "</table>\n",
              "</div>"
            ],
            "text/plain": [
              "   child_mort    exports    health    imports        income  inflation  \\\n",
              "0                                                                        \n",
              "0    8.523122  30.116032  2.716652  26.928785  20441.749847   6.957187   \n",
              "1   38.076068  18.201742  2.645319  19.323451   4890.581414  13.682630   \n",
              "\n",
              "   life_expec  total_fer          gdpp  \n",
              "0                                       \n",
              "0    3.735757   0.486744  20578.727127  \n",
              "1    6.897418   1.285590   2528.509189  "
            ]
          },
          "execution_count": 97,
          "metadata": {},
          "output_type": "execute_result"
        }
      ],
      "source": [
        "output.groupby(0).std()"
      ]
    },
    {
      "cell_type": "markdown",
      "metadata": {
        "id": "x_rQZjMrUKY8"
      },
      "source": [
        "# 9.) Write an observation about the descriptive statistics."
      ]
    },
    {
      "cell_type": "code",
      "execution_count": 3,
      "metadata": {
        "id": "7MOo8dEeTIOc"
      },
      "outputs": [],
      "source": []
    }
  ],
  "metadata": {
    "colab": {
      "provenance": []
    },
    "kernelspec": {
      "display_name": "Python 3",
      "name": "python3"
    },
    "language_info": {
      "codemirror_mode": {
        "name": "ipython",
        "version": 3
      },
      "file_extension": ".py",
      "mimetype": "text/x-python",
      "name": "python",
      "nbconvert_exporter": "python",
      "pygments_lexer": "ipython3",
      "version": "3.11.5"
    }
  },
  "nbformat": 4,
  "nbformat_minor": 0
}
